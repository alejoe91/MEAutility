{
 "cells": [
  {
   "cell_type": "markdown",
   "metadata": {},
   "source": [
    "# MEA definition"
   ]
  },
  {
   "cell_type": "markdown",
   "metadata": {},
   "source": [
    "This notebook shows how MEA can be using a .yaml file and how MEA models can be added and removed to and from the file system."
   ]
  },
  {
   "cell_type": "code",
   "execution_count": 9,
   "metadata": {},
   "outputs": [],
   "source": [
    "import MEAutility as MEA\n",
    "from pprint import pprint\n",
    "import matplotlib.pylab as plt"
   ]
  },
  {
   "cell_type": "markdown",
   "metadata": {},
   "source": [
    "### List available MEAs:"
   ]
  },
  {
   "cell_type": "code",
   "execution_count": 24,
   "metadata": {},
   "outputs": [
    {
     "name": "stdout",
     "output_type": "stream",
     "text": [
      "Available MEA: \n",
      " ['SqMEA-6-25um', 'SqMEA-10-15um', 'tetrode', 'Neuroseeker-128', 'SqMEA-5-30um', 'SqMEA-15-10um', 'Neuronexus-32-Kampff', 'Neuronexus-32-cut-30', 'Neuropixels-128', 'Neuroseeker-128-Kampff', 'Neuropixels-24', 'SqMEA-7-20um', 'Neuronexus-32', 'Neuropixels-384']\n"
     ]
    }
   ],
   "source": [
    "MEA.return_mea()"
   ]
  },
  {
   "cell_type": "markdown",
   "metadata": {},
   "source": [
    "These MEA are saved during installation. Each MEA corresponds to a .yaml file containing key information for the MEA. Let's take a look at some examples."
   ]
  },
  {
   "cell_type": "markdown",
   "metadata": {},
   "source": [
    "### Square MEA"
   ]
  },
  {
   "cell_type": "code",
   "execution_count": 5,
   "metadata": {},
   "outputs": [
    {
     "name": "stdout",
     "output_type": "stream",
     "text": [
      "{'dim': 10,\n",
      " 'electrode_name': 'SqMEA-10-15um',\n",
      " 'pitch': 15,\n",
      " 'shape': 'square',\n",
      " 'size': 5,\n",
      " 'sortlist': None,\n",
      " 'type': 'mea'}\n"
     ]
    }
   ],
   "source": [
    "sqmea_info = MEA.return_mea_info('SqMEA-10-15um')\n",
    "pprint(sqmea_info)"
   ]
  },
  {
   "cell_type": "markdown",
   "metadata": {},
   "source": [
    "The returned dictionary corresponds the the .yaml file. For this MEA model `dim` is a single `int` and `pitch` is a single `int` (or `float`). Therefore, a 10x10 Square MEA is instantiated with 15um pitch in the yz direction (if `plane` is not in the yaml file, `yz` is default). The electrodes `shape` is `square`, and half the side length is 5um. Since `sortlist` is `None`, the electrode count starts from the bottom left and it follows the rows up and then goes to the next column (the last index is the electrode on the top right). The `type` `mea` will be used for plotting."
   ]
  },
  {
   "cell_type": "markdown",
   "metadata": {},
   "source": [
    "Let's now instantiate a MEA object:"
   ]
  },
  {
   "cell_type": "code",
   "execution_count": 15,
   "metadata": {},
   "outputs": [
    {
     "name": "stdout",
     "output_type": "stream",
     "text": [
      "'plane' field with 2D dimensions assumed to be 'yz\n",
      "Model is set to semi\n",
      "<class 'MEAutility.core.RectMEA'>\n",
      "100\n",
      "[10, 10]\n"
     ]
    }
   ],
   "source": [
    "sqmea = MEA.return_mea('SqMEA-10-15um')\n",
    "print(type(sqmea))\n",
    "print(sqmea.number_electrodes)\n",
    "print(sqmea.dim)"
   ]
  },
  {
   "cell_type": "markdown",
   "metadata": {},
   "source": [
    "The MEA is a rectangular MEA with 100 electrodes. "
   ]
  },
  {
   "cell_type": "code",
   "execution_count": 31,
   "metadata": {},
   "outputs": [
    {
     "data": {
      "image/png": "[encoded data removed]",
      "text/plain": [
       "<Figure size 432x288 with 1 Axes>"
      ]
     },
     "metadata": {
      "needs_background": "light"
     },
     "output_type": "display_data"
    }
   ],
   "source": [
    "plt.plot(sqmea.positions[:, 1], sqmea.positions[:, 2], 'b*')\n",
    "plt.plot(sqmea.positions[0, 1], sqmea.positions[0, 2], 'r*')\n",
    "plt.plot(sqmea.positions[9, 1], sqmea.positions[9, 2], 'g*')\n",
    "plt.plot(sqmea.positions[10, 1], sqmea.positions[10, 2], 'y*')\n",
    "plt.plot(sqmea.positions[-1, 1], sqmea.positions[-1, 2], 'c*')\n",
    "_ = plt.axis('equal')"
   ]
  },
  {
   "cell_type": "markdown",
   "metadata": {},
   "source": [
    "Rectangular MEAs can be handled as matrices, where the first inex is the ROW and the second index is the COLUMN:"
   ]
  },
  {
   "cell_type": "code",
   "execution_count": 23,
   "metadata": {},
   "outputs": [
    {
     "name": "stdout",
     "output_type": "stream",
     "text": [
      "[  0.  -67.5 -67.5]\n",
      "[  0.  -67.5  67.5]\n",
      "[  0.  -52.5 -67.5]\n",
      "[ 0.  67.5 67.5]\n"
     ]
    }
   ],
   "source": [
    "print(sqmea[0][0].position) # electrode 0\n",
    "print(sqmea[9][0].position) # electrode 9\n",
    "print(sqmea[0][1].position) # electrode 10\n",
    "print(sqmea[-1][-1].position) # electrode 99"
   ]
  },
  {
   "cell_type": "markdown",
   "metadata": {},
   "source": [
    "### Rectangular MEA"
   ]
  },
  {
   "cell_type": "code",
   "execution_count": 17,
   "metadata": {},
   "outputs": [
    {
     "name": "stdout",
     "output_type": "stream",
     "text": [
      "{'dim': [32, 4],\n",
      " 'electrode_name': 'Neuroseeker-128',\n",
      " 'pitch': 22.5,\n",
      " 'shape': 'square',\n",
      " 'size': 10.0,\n",
      " 'sortlist': None,\n",
      " 'type': 'mea'}\n"
     ]
    }
   ],
   "source": [
    "neuroseeker_info = MEA.return_mea_info('Neuroseeker-128')\n",
    "pprint(neuroseeker_info)"
   ]
  },
  {
   "cell_type": "markdown",
   "metadata": {},
   "source": [
    "This MEA is rectangular, with 32 rows, 4 columns, and a regular pitch of 22.5um"
   ]
  },
  {
   "cell_type": "code",
   "execution_count": 14,
   "metadata": {},
   "outputs": [
    {
     "name": "stdout",
     "output_type": "stream",
     "text": [
      "'plane' field with 2D dimensions assumed to be 'yz\n",
      "Model is set to semi\n",
      "<class 'MEAutility.core.RectMEA'>\n",
      "128\n",
      "[32, 4]\n"
     ]
    }
   ],
   "source": [
    "neuroseeker = MEA.return_mea('Neuroseeker-128')\n",
    "print(type(neuroseeker))\n",
    "print(neuroseeker.number_electrodes)\n",
    "print(neuroseeker.dim)"
   ]
  },
  {
   "cell_type": "code",
   "execution_count": 30,
   "metadata": {},
   "outputs": [
    {
     "name": "stdout",
     "output_type": "stream",
     "text": [
      "[   0.    -33.75 -348.75]\n",
      "[  0.   -33.75 348.75]\n",
      "[   0.    -33.75 -326.25]\n",
      "[  0.    33.75 348.75]\n"
     ]
    },
    {
     "data": {
      "image/png": "[encoded data removed]",
      "text/plain": [
       "<Figure size 432x288 with 1 Axes>"
      ]
     },
     "metadata": {
      "needs_background": "light"
     },
     "output_type": "display_data"
    }
   ],
   "source": [
    "plt.plot(neuroseeker.positions[:, 1], neuroseeker.positions[:, 2], 'b*')\n",
    "_ = plt.axis('equal')\n",
    "print(neuroseeker[0][0].position) # electrode 0\n",
    "print(neuroseeker[31][0].position) # electrode 31\n",
    "print(neuroseeker[1][0].position) # electrode 32\n",
    "print(neuroseeker[-1][-1].position) # electrode 127"
   ]
  },
  {
   "cell_type": "markdown",
   "metadata": {},
   "source": [
    "### General MEA"
   ]
  },
  {
   "cell_type": "markdown",
   "metadata": {},
   "source": [
    "When `dim` and `pitch` is are single `int` (or `float` for `pitch`) or a list of 2 values, a rectangular MEA is created. Some MEA configuration can be different."
   ]
  },
  {
   "cell_type": "code",
   "execution_count": 26,
   "metadata": {},
   "outputs": [
    {
     "name": "stdout",
     "output_type": "stream",
     "text": [
      "{'dim': [10, 12, 10],\n",
      " 'electrode_name': 'Neuronexus-32',\n",
      " 'pitch': [25.0, 18.0],\n",
      " 'shape': 'circle',\n",
      " 'size': 7.5,\n",
      " 'sortlist': None,\n",
      " 'stagger': -12.5,\n",
      " 'type': 'mea'}\n"
     ]
    }
   ],
   "source": [
    "neuronexus_info = MEA.return_mea_info('Neuronexus-32')\n",
    "pprint(neuronexus_info)"
   ]
  },
  {
   "cell_type": "markdown",
   "metadata": {},
   "source": [
    "For this MEA there are 3 different options:\n",
    "- `dim` has 3 elements\n",
    "- `pitch` hass 2 elements\n",
    "- `stagger` is present\n",
    "\n",
    "When len(`dim`) > 2, then each element represents the number of rows of each column. In this case, there are 3 columns: the first and third have 10 electrodes, the second one has 12.\n",
    "\n",
    "The first value of `pitch` is the inter-row distance (top to bottom). The second value is the inter-column distance (left to right).\n",
    "\n",
    "The `stagger` key allows the shift colimns. If only one value is given (`int` or `float`) every other column starting from he second one is staggered. Otherwise `stagger` can be a list with the same number of elements of `dim`.\n",
    "\n",
    "Given this information, we can wxpect how the neuronexus MEA looks like:"
   ]
  },
  {
   "cell_type": "code",
   "execution_count": 29,
   "metadata": {},
   "outputs": [
    {
     "name": "stdout",
     "output_type": "stream",
     "text": [
      "'plane' field with 2D dimensions assumed to be 'yz\n",
      "Model is set to semi\n"
     ]
    },
    {
     "data": {
      "image/png": "[encoded data removed]",
      "text/plain": [
       "<Figure size 432x288 with 1 Axes>"
      ]
     },
     "metadata": {
      "needs_background": "light"
     },
     "output_type": "display_data"
    }
   ],
   "source": [
    "neuronexus = MEA.return_mea('Neuronexus-32')\n",
    "plt.plot(neuronexus.positions[:, 1], neuronexus.positions[:, 2], 'b*')\n",
    "_ = plt.axis('equal')"
   ]
  },
  {
   "cell_type": "markdown",
   "metadata": {},
   "source": [
    "## Adding and removing MEA models"
   ]
  },
  {
   "cell_type": "markdown",
   "metadata": {},
   "source": [
    "It is possible to load user-defined yaml files in the MEAutility package, so that they are available from the entire file system.\n",
    "\n",
    "Let's first create a `user.yaml` file on-the-fly."
   ]
  },
  {
   "cell_type": "code",
   "execution_count": 1,
   "metadata": {},
   "outputs": [
    {
     "name": "stdout",
     "output_type": "stream",
     "text": [
      "['user.yaml']\n"
     ]
    }
   ],
   "source": [
    "import yaml, os\n",
    "\n",
    "user_info = {'dim': [10, 12, 9, 8],\n",
    "             'electrode_name': 'user',\n",
    "             'pitch': [10.0, 40.0],\n",
    "             'shape': 'circle',\n",
    "             'size': 7.5,\n",
    "             'sortlist': None,\n",
    "             'stagger': [0, -12, 30, -22],\n",
    "             'type': 'mea'}\n",
    "\n",
    "with open('user.yaml', 'w') as f:\n",
    "    yaml.dump(user_info, f)\n",
    "    \n",
    "yaml_files = [f for f in os.listdir('.') if f.endswith('.yaml')]\n",
    "print(yaml_files)"
   ]
  },
  {
   "cell_type": "markdown",
   "metadata": {},
   "source": [
    "Now we can add the newly created yaml file to the MEA package:"
   ]
  },
  {
   "cell_type": "code",
   "execution_count": 35,
   "metadata": {},
   "outputs": [
    {
     "name": "stdout",
     "output_type": "stream",
     "text": [
      "Available MEA: \n",
      " ['SqMEA-6-25um', 'SqMEA-10-15um', 'tetrode', 'Neuroseeker-128', 'SqMEA-5-30um', 'SqMEA-15-10um', 'Neuronexus-32-Kampff', 'Neuronexus-32-cut-30', 'Neuropixels-128', 'Neuroseeker-128-Kampff', 'Neuropixels-24', 'SqMEA-7-20um', 'Neuronexus-32', 'user', 'Neuropixels-384']\n"
     ]
    }
   ],
   "source": [
    "MEA.add_mea('user.yaml')"
   ]
  },
  {
   "cell_type": "markdown",
   "metadata": {},
   "source": [
    "and create a `user` MEA object:"
   ]
  },
  {
   "cell_type": "code",
   "execution_count": 36,
   "metadata": {},
   "outputs": [
    {
     "name": "stdout",
     "output_type": "stream",
     "text": [
      "'plane' field with 2D dimensions assumed to be 'yz\n",
      "Model is set to semi\n"
     ]
    },
    {
     "data": {
      "image/png": "[encoded data removed]",
      "text/plain": [
       "<Figure size 432x288 with 1 Axes>"
      ]
     },
     "metadata": {
      "needs_background": "light"
     },
     "output_type": "display_data"
    }
   ],
   "source": [
    "usermea = MEA.return_mea('user')\n",
    "plt.plot(usermea.positions[:, 1], usermea.positions[:, 2], 'b*')\n",
    "_ = plt.axis('equal')"
   ]
  },
  {
   "cell_type": "markdown",
   "metadata": {},
   "source": [
    "If we don't need the `user` MEA anymore, we can remove it from the MEA package:"
   ]
  },
  {
   "cell_type": "code",
   "execution_count": 37,
   "metadata": {},
   "outputs": [
    {
     "name": "stdout",
     "output_type": "stream",
     "text": [
      "Removed:  /home/alessiob/anaconda3/envs/mearec/lib/python3.6/site-packages/MEAutility/electrodes/user.yaml\n",
      "Available MEA: \n",
      " ['SqMEA-6-25um', 'SqMEA-10-15um', 'tetrode', 'Neuroseeker-128', 'SqMEA-5-30um', 'SqMEA-15-10um', 'Neuronexus-32-Kampff', 'Neuronexus-32-cut-30', 'Neuropixels-128', 'Neuroseeker-128-Kampff', 'Neuropixels-24', 'SqMEA-7-20um', 'Neuronexus-32', 'Neuropixels-384']\n"
     ]
    }
   ],
   "source": [
    "MEA.remove_mea('user')"
   ]
  }
 ],
 "metadata": {
  "kernelspec": {
   "display_name": "Python 3",
   "language": "python",
   "name": "python3"
  },
  "language_info": {
   "codemirror_mode": {
    "name": "ipython",
    "version": 3
   },
   "file_extension": ".py",
   "mimetype": "text/x-python",
   "name": "python",
   "nbconvert_exporter": "python",
   "pygments_lexer": "ipython3",
   "version": "3.6.5"
  }
 },
 "nbformat": 4,
 "nbformat_minor": 2
}
